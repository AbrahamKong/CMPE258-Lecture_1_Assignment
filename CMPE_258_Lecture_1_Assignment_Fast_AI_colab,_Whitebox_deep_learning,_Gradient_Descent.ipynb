{
  "nbformat": 4,
  "nbformat_minor": 0,
  "metadata": {
    "colab": {
      "name": "CMPE 258 Lecture 1 Assignment - Fast AI colab, Whitebox deep learning, Gradient Descent",
      "provenance": [],
      "authorship_tag": "ABX9TyMvLNDkiEJCWK7Up5koRlLp",
      "include_colab_link": true
    },
    "kernelspec": {
      "name": "python3",
      "display_name": "Python 3"
    },
    "language_info": {
      "name": "python"
    }
  },
  "cells": [
    {
      "cell_type": "markdown",
      "metadata": {
        "id": "view-in-github",
        "colab_type": "text"
      },
      "source": [
        "<a href=\"https://colab.research.google.com/github/AbrahamKong/CMPE258-Lecture_1_Assignment/blob/main/CMPE_258_Lecture_1_Assignment_Fast_AI_colab%2C_Whitebox_deep_learning%2C_Gradient_Descent.ipynb\" target=\"_parent\"><img src=\"https://colab.research.google.com/assets/colab-badge.svg\" alt=\"Open In Colab\"/></a>"
      ]
    },
    {
      "cell_type": "markdown",
      "source": [
        "# Fast AI"
      ],
      "metadata": {
        "id": "mWjCot67cGYv"
      }
    },
    {
      "cell_type": "markdown",
      "source": [
        "# Whitebox Deep Learning"
      ],
      "metadata": {
        "id": "o0FXpYSUcJ_x"
      }
    },
    {
      "cell_type": "markdown",
      "source": [
        "# Gradient Descent"
      ],
      "metadata": {
        "id": "QAZ_qjcocSxJ"
      }
    }
  ]
}